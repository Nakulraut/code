{
  "nbformat": 4,
  "nbformat_minor": 0,
  "metadata": {
    "colab": {
      "provenance": [],
      "authorship_tag": "ABX9TyOZyZxAmubyP4sY9GHgW80M",
      "include_colab_link": true
    },
    "kernelspec": {
      "name": "python3",
      "display_name": "Python 3"
    },
    "language_info": {
      "name": "python"
    }
  },
  "cells": [
    {
      "cell_type": "markdown",
      "metadata": {
        "id": "view-in-github",
        "colab_type": "text"
      },
      "source": [
        "<a href=\"https://colab.research.google.com/github/Nakulraut/code/blob/main/Untitled0.ipynb\" target=\"_parent\"><img src=\"https://colab.research.google.com/assets/colab-badge.svg\" alt=\"Open In Colab\"/></a>"
      ]
    },
    {
      "cell_type": "markdown",
      "source": [],
      "metadata": {
        "id": "qG07JyWHNvaN"
      }
    },
    {
      "cell_type": "code",
      "execution_count": null,
      "metadata": {
        "id": "N_0ZLq1kMMuN"
      },
      "outputs": [],
      "source": [
        "import numpy as np\n",
        "\n",
        "b = np.empty(2, dtype = int)\n",
        "print(\"Matrix b : \\n\", b)\n",
        "\n",
        "a = np.empty([2, 2], dtype = int)\n",
        "print(\"\\nMatrix a : \\n\", a)\n",
        "\n",
        "c = np.empty([3, 3])\n",
        "print(\"\\nMatrix c : \\n\", c)\n"
      ]
    }
  ]
}