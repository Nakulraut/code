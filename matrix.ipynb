{
  "nbformat": 4,
  "nbformat_minor": 0,
  "metadata": {
    "colab": {
      "provenance": [],
      "authorship_tag": "ABX9TyP/scisADiVDllcMkYS7wOL",
      "include_colab_link": true
    },
    "kernelspec": {
      "name": "python3",
      "display_name": "Python 3"
    },
    "language_info": {
      "name": "python"
    }
  },
  "cells": [
    {
      "cell_type": "markdown",
      "metadata": {
        "id": "view-in-github",
        "colab_type": "text"
      },
      "source": [
        "<a href=\"https://colab.research.google.com/github/Nakulraut/code/blob/main/matrix.ipynb\" target=\"_parent\"><img src=\"https://colab.research.google.com/assets/colab-badge.svg\" alt=\"Open In Colab\"/></a>"
      ]
    },
    {
      "cell_type": "markdown",
      "source": [],
      "metadata": {
        "id": "qG07JyWHNvaN"
      }
    },
    {
      "cell_type": "code",
      "execution_count": 5,
      "metadata": {
        "id": "N_0ZLq1kMMuN",
        "colab": {
          "base_uri": "https://localhost:8080/"
        },
        "outputId": "036afa6a-77ef-4658-b92b-f1adbb30a42a"
      },
      "outputs": [
        {
          "output_type": "stream",
          "name": "stdout",
          "text": [
            "Matrix a : \n",
            " [[95930581287262              0]\n",
            " [             0              0]]\n",
            "\n",
            "Matrix b : \n",
            " [[     95930697478169                   0]\n",
            " [     95910914686975 8386059226626093648]]\n",
            "\n",
            "Matrix c : \n",
            " [[0.]]\n"
          ]
        }
      ],
      "source": [
        "import numpy as np\n",
        "\n",
        "a = np.empty([2, 2], dtype = int)\n",
        "print(\"Matrix a : \\n\", a)\n",
        "\n",
        "b = np.empty([2, 2], dtype = int)\n",
        "print(\"\\nMatrix b : \\n\", b)\n",
        "\n",
        "c = np.empty([1, 1])\n",
        "print(\"\\nMatrix c : \\n\", c)\n"
      ]
    }
  ]
}